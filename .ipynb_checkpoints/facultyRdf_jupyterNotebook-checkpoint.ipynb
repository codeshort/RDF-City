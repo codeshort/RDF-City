{
 "cells": [
  {
   "cell_type": "code",
   "execution_count": 1,
   "metadata": {},
   "outputs": [
    {
     "name": "stdout",
     "output_type": "stream",
     "text": [
      "Requirement already satisfied: rdflib in c:\\programdata\\anaconda3\\lib\\site-packages (5.0.0)\n",
      "Requirement already satisfied: six in c:\\programdata\\anaconda3\\lib\\site-packages (from rdflib) (1.15.0)\n",
      "Requirement already satisfied: pyparsing in c:\\programdata\\anaconda3\\lib\\site-packages (from rdflib) (2.4.7)\n",
      "Requirement already satisfied: isodate in c:\\programdata\\anaconda3\\lib\\site-packages (from rdflib) (0.6.0)\n"
     ]
    }
   ],
   "source": [
    "!pip install rdflib"
   ]
  },
  {
   "cell_type": "code",
   "execution_count": 2,
   "metadata": {},
   "outputs": [
    {
     "data": {
      "text/plain": [
       "<Graph identifier=Nd6c8b3a6edd1409eac23949dcd6da6f4 (<class 'rdflib.graph.Graph'>)>"
      ]
     },
     "execution_count": 2,
     "metadata": {},
     "output_type": "execute_result"
    }
   ],
   "source": [
    "import rdflib\n",
    "g = rdflib.Graph()\n",
    "g.parse('C:\\\\Users\\\\tiwar\\\\repos\\\\RDF-City\\\\Book1-xlsx.rdf')"
   ]
  },
  {
   "cell_type": "code",
   "execution_count": 4,
   "metadata": {},
   "outputs": [
    {
     "name": "stdout",
     "output_type": "stream",
     "text": [
      "http://nitp.ac.in/professor/AjitKumar http://xmlns.com/foaf/0.1/mbox http://nitp.ac.in/ajitk.ee@nitp.ac.in\n"
     ]
    }
   ],
   "source": [
    "for s, p, o in g:\n",
    "    print(s, p, o)\n",
    "    break"
   ]
  },
  {
   "cell_type": "code",
   "execution_count": 5,
   "metadata": {},
   "outputs": [
    {
     "name": "stdout",
     "output_type": "stream",
     "text": [
      "99\n"
     ]
    }
   ],
   "source": [
    "print(len(g))"
   ]
  },
  {
   "cell_type": "code",
   "execution_count": 6,
   "metadata": {},
   "outputs": [
    {
     "name": "stdout",
     "output_type": "stream",
     "text": [
      "Triple exists!\n"
     ]
    }
   ],
   "source": [
    "from rdflib import URIRef\n",
    "\n",
    "if(URIRef('http://nitp.ac.in/professor/AbdurRahmanQuaff'), None, None) in g:\n",
    "    print(f'Triple exists!')\n",
    "else:\n",
    "    print(f'Triple does not exists!')"
   ]
  },
  {
   "cell_type": "code",
   "execution_count": 7,
   "metadata": {},
   "outputs": [
    {
     "name": "stdout",
     "output_type": "stream",
     "text": [
      "{rdflib.term.URIRef('http://dbpedia.org/ontology/AcademicConference'),\n",
      " rdflib.term.URIRef('http://dbpedia.org/ontology/AcademicJournal'),\n",
      " rdflib.term.URIRef('http://dbpedia.org/ontology/AcademicSubject'),\n",
      " rdflib.term.URIRef('http://dbpedia.org/ontology/education'),\n",
      " rdflib.term.URIRef('http://dbpedia.org/property/occupation'),\n",
      " rdflib.term.URIRef('http://purl.org/dc/terms/subject'),\n",
      " rdflib.term.URIRef('http://www.w3.org/1999/02/22-rdf-syntax-ns#type'),\n",
      " rdflib.term.URIRef('http://xmlns.com/foaf/0.1/mbox'),\n",
      " rdflib.term.URIRef('http://xmlns.com/foaf/0.1/name'),\n",
      " rdflib.term.URIRef('http://xmlns.com/foaf/0.1/topic_interest')}\n"
     ]
    }
   ],
   "source": [
    "from rdflib.namespace import RDF, RDFS, OWL, FOAF, DCTERMS\n",
    "dbo = rdflib.Namespace(\"http://dbpedia.org/ontology/\")\n",
    "dbr = rdflib.Namespace(\"http://dbpedia.org/resource/\")\n",
    "properties1 = set()\n",
    "for s, p, o in g:\n",
    "    properties1.add(p)\n",
    "    \n",
    "from pprint import pprint\n",
    "pprint(properties1)"
   ]
  },
  {
   "cell_type": "code",
   "execution_count": 8,
   "metadata": {},
   "outputs": [
    {
     "data": {
      "text/plain": [
       "10"
      ]
     },
     "execution_count": 8,
     "metadata": {},
     "output_type": "execute_result"
    }
   ],
   "source": [
    "len(properties1)"
   ]
  },
  {
   "cell_type": "code",
   "execution_count": 9,
   "metadata": {},
   "outputs": [
    {
     "name": "stdout",
     "output_type": "stream",
     "text": [
      "{rdflib.term.URIRef('http://dbpedia.org/ontology/AcademicConference'),\n",
      " rdflib.term.URIRef('http://dbpedia.org/ontology/AcademicJournal'),\n",
      " rdflib.term.URIRef('http://dbpedia.org/ontology/AcademicSubject'),\n",
      " rdflib.term.URIRef('http://dbpedia.org/ontology/education'),\n",
      " rdflib.term.URIRef('http://dbpedia.org/property/occupation'),\n",
      " rdflib.term.URIRef('http://purl.org/dc/terms/subject'),\n",
      " rdflib.term.URIRef('http://www.w3.org/1999/02/22-rdf-syntax-ns#type'),\n",
      " rdflib.term.URIRef('http://xmlns.com/foaf/0.1/mbox'),\n",
      " rdflib.term.URIRef('http://xmlns.com/foaf/0.1/name'),\n",
      " rdflib.term.URIRef('http://xmlns.com/foaf/0.1/topic_interest')}\n"
     ]
    }
   ],
   "source": [
    "properties2 = set()\n",
    "for p in g.predicates():\n",
    "    properties2.add(p)\n",
    "    \n",
    "pprint(properties2)"
   ]
  },
  {
   "cell_type": "code",
   "execution_count": 10,
   "metadata": {},
   "outputs": [
    {
     "name": "stdout",
     "output_type": "stream",
     "text": [
      "NIL None None\n",
      "NIL None None\n",
      "NIL None None\n",
      "1. Md.Hasmat Ali, A.K.Sahani, Study, Implementation and comparison of Different Multipliers based on Array KCM and Vedic Mathematics Using EDA Tools.. IJSRP. vol 3(Issue-6), June - 2013,ISSN 2250-3153.;Niranjan Kumar, M.M.Choudhary, A.K.Sahani, Microprocessor based Measurement of Transmission Line Parameters Under Fault Conditions For Distance Relaying.  IETECH . vol 3(No.2) - 2009,065-069, . None None\n",
      "1. S. Venkatesh, A.R.Quaff, N. D. Pandey (2014) , “The use of ozonation and biological processes for treatment of textile azo dye wastewater”, National Conference on “Water Resources Management – Achievements & Challenges (WRM-AC 2014) .  Jamia Millia Islamia University, New Delhi, India, ,March 22nd - 2014, .\n",
      "\n",
      "2.Smita Venkatesh, A R Quaff and N D Pandey , Treatment and Reuse of Dye Wastewater from the Textile Industry: A Review of Advanced Treatment Technologies,  International Conference IWW-2013 Efficient Water management: Challenges and Opportunities.   Vigyan Bhawan Delhi, India.,8-14 April - 2013, \n",
      "\n",
      "Smita Venkatesh, A R Quaff and N D Pandey , Treatment and Reuse of Dye Wastewater from the Textile Industry: A Review of Advanced Treatment Technologies,  International Conference IWW-2013 Efficient Water management: Challenges and Opportunities.   Vigyan Bhawan Delhi, India.,8-14 April - 2013, .\n",
      "\n",
      "A R Quaff and Bhumika Singh , Health Effect of Air Pollution: A case study of Allahabad City, India, 3rd International Conference on Environmental Pollution and .  Toronto, Canada,July 15-17 - 2013,\n",
      "\n",
      "A R Quaff and Bhumika Singh , Health Effect of Air Pollution: A case study of Allahabad City, India, 3rd International Conference on Environmental Pollution and .  Toronto, Canada,July 15-17 - 2013,\n",
      "\n",
      "A. R. Quaff, Vibha.J.A., Richa.P., Saumyen Guha, C.S.Harendranath (2008) , Enhanced Granulation Using Natural Polymers in UASB Reactors Treating Domestic Wastewater,  International Water work Association (IWWA) Conference .  Vienna, Austria,7-12 Septemb - 2008, .\n",
      "\n",
      "A. R.Quaff, Vibha.J.A., Saumyen Guha, C.S.Harendranath, Stability of Granules in UASB Reactor Testing Low Strength Waste Water, International conference .   Bengal Engineering & Science University, Shibpur India. ,11-14 Jan - 2007, .\n",
      " None None\n",
      "NIL None None\n",
      "1. Abhay Kumar Chaubey, Ajay Kumar, Anupam Chakrabarti, A novel shear deformation model for moderately thick and deep laminated composite conoidal shell. Mechanics Based Design of Structures and Machines. , 01 - 2018,Https://doi.org/10.1080/15397734.2017.1422433.\n",
      "\n",
      "Abhay Kumar Chaubey, Ajay Kumar, Anupam Chakrabarti, Vibration of laminated composite shells with cutouts and concentrated mass. AIAA Journal. , 11 - 2017,Https://doi.org/10.2514/1.J056320.\n",
      "\n",
      "Md Irfan Ansari, Ajay Kumar, Anupam Chakrabarti, Static analysis of doubly curved singly ruled truncated FGM cone. Composite Structures. 184, 10 - 2017,523-535, Https://doi.org/10.1016/j.compstruct.2017.10.028.\n",
      "\n",
      "Ajay Kumar, Anupam Chakrabarti, Failure analysis of laminated composite skew laminates. Procedia Engineering. 173 - 2017,1560-1566, Https://doi.org/10.1016/j.proeng.2016.12.245.\n",
      "\n",
      "Ajay Kumar, Anupam Chakrabarti, Pradeep Bhargava, Vibration analysis of laminated composite skew cylindrical shells using higher order shear deformation theory. Journal of Vibration and Control. - 2015\n",
      "\n",
      "Ajay Kumar, Anupam Chakrabarti, Pradeep Bhargava, Rajib Chaudhary, Probabilistic failure analysis of laminated sandwich shells based on higher order zigzag theory. Journal of Sandwich Structures & Materials. , 03 - 2015,Http://jsm.sagepub.com/content/early/2015/03/20/1099636215577368.abstract.\n",
      "\n",
      "Ajay Kumar, Anupam Chakrabarti, Pradeep Bhargava, Efficient failure analysis of laminated composites and sandwich cylindrical shells based on higher order zigzag theory. Journal of Aerospace Engineering (ASCE). - 2014,.\n",
      "\n",
      "Ajay Kumar, Anupam Chakrabarti, Pradeep Bhargava, Failure analysis of laminated composite spherical shells based on higher order theory laminated composite skew hypar shells. International Journal of Mechanical and Production Engineering. - 2014,.\n",
      "\n",
      "Ajay Kumar, Anupam Chakrabarti, Pradeep Bhargava, Accurate dynamic response of laminated composites and sandwich cylindrical shells based on higher order zigzag theory. Thin-Walled Structures. - 2014,.\n",
      "\n",
      "Ajay Kumar, Anupam Chakrabarti, Pradeep Bhargava, Vibration of laminated composite shells with cutouts using higher order shear deformation theory. International Journal of Scientific and Engineering Research. - 2013,.\n",
      "\n",
      "Ajay Kumar, Anupam Chakrabarti, Pradeep Bhargava, Finite element analysis of laminated composite and sandwich shells using higher order zigzag theory. Composite Structures. - 2013,.\n",
      "\n",
      "Ajay Kumar, Anupam Chakrabarti, Pradeep Bhargava, Vibration of laminated composites and sandwich shells based on higher order zigzag theory. Engineering Structures. - 2013,.\n",
      "\n",
      "Ajay Kumar, Anupam Chakrabarti, Pradeep Bhargava, Vibration of laminated composite skew hypar shells using higher order theory. Thin-Walled Structures. - 2013,.\n",
      "\n",
      "Ajay Kumar, Anupam Chakrabarti, Pradeep Bhargava, Natural frequencies and mode shapes of with complicated boundary conditions using finite element method. Advanced Materials Research. - 2012,.\n",
      "\n",
      "Ajay Kumar, Anupam Chakrabarti, Pradeep Bhargava, Analysis of laminated composite skew shells using higher order shear deformation theory. Latin American Journal of Solids and Structures. - 2012,.\n",
      "\n",
      "For all my published papers copy this link and paste in browser., https://scholar.google.com/citations?view_op=list_works&hl=en&user=ze7y3zIAAAAJ. .\n",
      "\n",
      "Ajay Kumar, Anupam Chakrabarti, Pradeep Bhargava, Finite element analysis of failure of laminated composite skew cylindrical shells. International Journal of Global Technology Initiatives. , 2013.\n",
      "\n",
      " None None\n",
      "1. Lawakush Jaiswal, Mohammad Ul Hassan & Arun Kumar, , Experimentation and thermal analysis of cylindrical and conical shaped fins.. International Journal of Mechanical Engineering (IJME). Vol. 71, Issue 4, Jun- Jul - 2018,,1-10, ISSN (P): 2319-2240; ISSN (E): 2319-2259,© IASET..;  2. Rajnish Kumar & Arun Kumar, Experimental Study of Concentric Tube Heat Exchanger Using Cuo–Water based Nanofluid. Journal of Mechanical Engineering Research and Developments, ISSN: 1024-1752. Vol. 41(No. 1) - 2018,Pp. 190-198, DOI: 10.7508/jmerd.2018.01.022.; 3. Arun Kumar ,Om Prakash, Optimization of net work output & efficiency of gas turbine. IJETAE. 3(4), April - 2013,732-739, ISSN 2250-2459.; 4.Arun Kumar & S. K. Verma, Performance analysis of staggered wire mesh matrix regenerative heat exchanger. International Journal of Mechanical Engineering (IJME). Vol. 7, Issue 5,, Aug - Sep 20, 11-18, . None None\n",
      "1. Ajit Kumar, Nonlinear AVR for power system stabilisers robust phase compensation design.  IET Generation, Transmission & Distribution. 14(21), 11 - 2020,4927-4935, 10.1049/iet-gtd.2020.0092..\n",
      "\n",
      "\n",
      "Ajit Kumar, On the Rotor Angle and Voltage Dynamics Decoupling in Synchronous Generators with Nonlinear AVR. Electric Power Components and Systems. 47(16) - 2019,1514-1523, DOI: 10.1080/15325008.2019.1666180.\n",
      "\n",
      "Ajit Kumar, Power System Stabilizers Design for Multimachine Power Systems Using Local Measurements. IEEE Tran. Power Syst.. 31(3), 05 - 2016,2163-2171, .\n",
      "\n",
      "Ajit Kumar, Ideal AVR and PSS - A Theoretical Study. IET Gener. Transmiss. Distrib.. 10.1049/iet-gtd.2020.1247 .\n",
      " None None\n",
      "Nitish Kumar, Abhishek Singh and Kishore Debnath, Effect of fiber weight ratio on the mechanical and water absorption performance of borassus/epoxy composites. Journal of Materials Testing (CARL HANSER VERLAG, GERMANY). , June - 2020,(Accepted) IF: 0.573 SCIE.\n",
      "\n",
      "\n",
      "Nitish Kumar, Abhishek Singh and Kishore Debnath, Influence of Surface Modification on Mechanical Characterization and Water Absorption behavior of Borassus Fruit Fiber Reinforced Composites. Emerging Materials Research. 9(3), 11 June - 2020,1-9, 10.1680/jemmr.19.00067, IF:0.413 (SCIE).\n",
      "\n",
      "Nitish Kumar and Abhishek Singh, Study the Effect of Fiber Orientation on Mechanical Properties of Bidirectional Basalt Fiber Reinforced Epoxy Composites. Journal of Materials Today: Proceedings. , May - 2020,1-7, 10.1016/j.matpr.2020.05.707, SCOPUS.\n",
      "\n",
      "Prakhar Kumar Kharwar, Rajesh Kumar Verma and Abhishek Singh, Neural network modeling and combined compromise solution (CoCoSo) method for optimization of drilling performances in polymer nano composites. Journal of Thermoplastic Composite Materials, SAGE Publications. , 16 July - 2020,1-28, 10.1177/0892705720939165, IF: 1.529 (SCI).\n",
      "\n",
      "Prakhar Kumar Kharwar, Rajesh Kumar Verma and Abhishek Singh, Simultaneous optimisation of quality and productivity characteristics during machining of multiwall carbon nanotube/epoxy nano composites. Australian Journal of Mechanical Engineering (Taylor & Francis). , 22 July - 2020,1-19, 10.1080/14484846.2020.1794511, IF: 0.96 (ESCI).\n",
      "\n",
      "Nitish Kumar, Abhishek Singh, Kishore Debnath, Niranjan Kumar, Water Absorption and Mechanical Behaviour of Borassus Fruit Fibre-Reinforced Composites. Emerging Materials Research. 9 (1), March - 2020,1-9, Https://doi.org/10.1680/jemmr.19.00044, IF: 0.413, SCIE.\n",
      "\n",
      "Rahul Davis, Abhishek Singh, Sabindra Kachhap, Neeraj Nath, A Comparative Study of EDD and PM-EDD in Producing Holes in Inconel 718 Alloy. Key Engineering Materials. 833, March - 2020,48-53, SCOPUS.\n",
      "\n",
      "Nitish Kumar, Abhishek Singh, Kishore Debnath, Rajesh Ranjan, Mechanical Characterization of Animal Hair Based Composites. Indian Journal of Fibre & Textile Research (IJFTR). , October - 2019,(Accepted), IF:0.511, SCI.\n",
      "\n",
      "Nitish Kumar, Abhishek Singh, Rajesh Ranjan, Fabrication and Mechanical Characterization of Horse Hair (HH) Reinforced Polypropylene (PP) Composites. Journal of Materials Today: Proceedings. 19 - 2019,622-625, DOI: 10.1016/j.matpr.2019.08.078, SCOPUS.\n",
      "\n",
      "Bassam Khan, Rahul Davis, Abhishek Singh, Effect of Input Variables and Cryogenic Treatment in Wire Electric Discharge Machining of Ti-6Al-4V Alloy for Biomedical Applications. Journal of Materials Today Proceedings . - 2019,(Accepted), SCOPUS.\n",
      "\n",
      "Sabindra Kachhap, Abhishek Singh and Kishore Debnath, A Study of Material Removal during Electrical-Discharge Drilling of Hybrid Metal Matrix Composites. . Journal of Scientific & Industrial Research. 78(364-367(June)) - 2019,IF: 0.735, SCI.\n",
      "\n",
      "Sabindra Kachhap, Abhishek Singh and Sanoj Kumar , Performance Evaluation of Different Electrode Geometries in Electric Discharge Drilling of MMCs. . International journal of mechanical engineering and robotics research. 8 (4), July - 2019,(Accepted): SCOPUS.\n",
      "\n",
      "Sabindra Kachhap, Abhishek Singh and Kishore Debnath, Process Optimization and Comparative Analysis of EDM and EDD Process in Machining Al6063/10% SiC Metal Matrix Composites. . Indian Journal of Engineering and Materials Sciences . - 2018 ,(Accepted), IF:0.794, SCI.\n",
      "\n",
      "Sabindra Kachhap, Abhishek Singh and Kishore Debnath, Electric Discharge Drilling of Hybrid Metal Matrix Composites using Different Tool Electrodes . Journal of Scientific & Industrial Research. 77(06), June - 2018,325-329, IF: 0.735, SCI.\n",
      "\n",
      "Ravinder Kumar, Abhishek Singh and Inderdeep Singh, Electric discharge hole grinding in hybrid metal matrix composite. Materials and Manufacturing Processes. 32(2) - 2017,127-134, IF: 3.350, SCIE.\n",
      "\n",
      "Abhishek Singh, Pradeep Kumar and Inderdeep Singh, Electric Discharge Drilling of Metal Matrix Composites with Different Tool Geometries. Part B: Journal of Engineering Manufacture. 227 - 2013,1245-49, IF: 2.12, SCI.\n",
      "\n",
      "Abhishek Singh, Pradeep Kumar and Inderdeep Singh, Optimization of Electro-Discharge Drilling on Metal Matrix Composites. Journal of Procedia Engineering, Elsevier. 64 - 2013,1157 - 65, \n",
      "\n",
      "Abhishek Singh, Pradeep Kumar and Inderdeep Singh, Design and Development of Electro-Discharge Drilling Process. Advanced Materials Research. 651 - 2013,607-11, .\n",
      "\n",
      "Sarbjit Singh, Abhishek Singh, Inderdeep Singh, Akshay Dvivedi, Optimization of the Process Parameters for Drilling of Metal Matrix Composites (MMC) Using Taguchi Analysis. Advanced Materials Research. 410 - 2012,249-52, .\n",
      "\n",
      "Divya Prakash, Mohammad Tariq, Rahul Davis, Abhishek Singh, Kishore Debnath, Influence of Cryogenic Treatment on the performance of Micro- EDM Tool Electrode in machining of Magnesium Alloy AZ-31B. Journal of Materials Today: Proceedings. (Accepted), SCOPUS. None None\n"
     ]
    }
   ],
   "source": [
    "for s, o in g.subject_objects(dbo.AcademicJournal):\n",
    "    print(o.value, o.language, o.datatype)"
   ]
  },
  {
   "cell_type": "code",
   "execution_count": 11,
   "metadata": {},
   "outputs": [
    {
     "name": "stdout",
     "output_type": "stream",
     "text": [
      "1. S. Venkatesh, A.R.Quaff, N. D. Pandey (2014) , “The use of ozonation and biological processes for treatment of textile azo dye wastewater”, National Conference on “Water Resources Management – Achievements & Challenges (WRM-AC 2014) .  Jamia Millia Islamia University, New Delhi, India, ,March 22nd - 2014, .\n",
      "\n",
      "2.Smita Venkatesh, A R Quaff and N D Pandey , Treatment and Reuse of Dye Wastewater from the Textile Industry: A Review of Advanced Treatment Technologies,  International Conference IWW-2013 Efficient Water management: Challenges and Opportunities.   Vigyan Bhawan Delhi, India.,8-14 April - 2013, \n",
      "\n",
      "Smita Venkatesh, A R Quaff and N D Pandey , Treatment and Reuse of Dye Wastewater from the Textile Industry: A Review of Advanced Treatment Technologies,  International Conference IWW-2013 Efficient Water management: Challenges and Opportunities.   Vigyan Bhawan Delhi, India.,8-14 April - 2013, .\n",
      "\n",
      "A R Quaff and Bhumika Singh , Health Effect of Air Pollution: A case study of Allahabad City, India, 3rd International Conference on Environmental Pollution and .  Toronto, Canada,July 15-17 - 2013,\n",
      "\n",
      "A R Quaff and Bhumika Singh , Health Effect of Air Pollution: A case study of Allahabad City, India, 3rd International Conference on Environmental Pollution and .  Toronto, Canada,July 15-17 - 2013,\n",
      "\n",
      "A. R. Quaff, Vibha.J.A., Richa.P., Saumyen Guha, C.S.Harendranath (2008) , Enhanced Granulation Using Natural Polymers in UASB Reactors Treating Domestic Wastewater,  International Water work Association (IWWA) Conference .  Vienna, Austria,7-12 Septemb - 2008, .\n",
      "\n",
      "A. R.Quaff, Vibha.J.A., Saumyen Guha, C.S.Harendranath, Stability of Granules in UASB Reactor Testing Low Strength Waste Water, International conference .   Bengal Engineering & Science University, Shibpur India. ,11-14 Jan - 2007, .\n",
      "\n"
     ]
    }
   ],
   "source": [
    "journal = URIRef('http://dbpedia.org/ontology/AcademicJournal')\n",
    "for o in g.objects(URIRef('http://nitp.ac.in/professor/AbdurRahmanQuaff'),dbo.AcademicJournal  ):\n",
    "    print(o)"
   ]
  },
  {
   "cell_type": "code",
   "execution_count": null,
   "metadata": {},
   "outputs": [],
   "source": []
  }
 ],
 "metadata": {
  "kernelspec": {
   "display_name": "Python 3",
   "language": "python",
   "name": "python3"
  },
  "language_info": {
   "codemirror_mode": {
    "name": "ipython",
    "version": 3
   },
   "file_extension": ".py",
   "mimetype": "text/x-python",
   "name": "python",
   "nbconvert_exporter": "python",
   "pygments_lexer": "ipython3",
   "version": "3.8.5"
  }
 },
 "nbformat": 4,
 "nbformat_minor": 4
}
